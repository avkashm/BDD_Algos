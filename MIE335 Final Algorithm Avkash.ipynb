{
 "cells": [
  {
   "cell_type": "code",
   "execution_count": 1,
   "metadata": {},
   "outputs": [],
   "source": [
    "import numpy as np\n",
    "import pandas as pd\n",
    "import time"
   ]
  },
  {
   "cell_type": "code",
   "execution_count": 2,
   "metadata": {},
   "outputs": [],
   "source": [
    "class node(object):\n",
    "    \n",
    "    def __init__(self,state,inbound=None,outbound=None):\n",
    "        self.state=state\n",
    "        self.inbound={}\n",
    "        self.outbound={}\n",
    "        \n",
    "    def __str__(self):\n",
    "        string=\"State: \"+str(self.state)\n",
    "        return string\n",
    "    \n",
    "    def addInbound(self,comingFrom,arcCost):\n",
    "        self.inbound[comingFrom]=arcCost\n",
    "        \n",
    "    def addOutbound(self,goingTo,arcCost):\n",
    "        self.outbound[goingTo]=arcCost\n"
   ]
  },
  {
   "cell_type": "code",
   "execution_count": 3,
   "metadata": {},
   "outputs": [],
   "source": [
    "class layer(object):\n",
    "    \n",
    "    def __init__(self, layer_no):\n",
    "        self.layer_no=layer_no\n",
    "        self.nodes={}\n",
    "        \n",
    "    def __str__(self):\n",
    "        string=\"Layer no. {}, containing {} nodes\".format(self.layer_no,len(self.nodes))\n",
    "        return string\n",
    "    \n",
    "    def addNode(self,node):\n",
    "        self.nodes[node.state]=node\n",
    "        \n",
    "    def getNodes(self):\n",
    "        return self.nodes"
   ]
  },
  {
   "cell_type": "code",
   "execution_count": 4,
   "metadata": {},
   "outputs": [],
   "source": [
    "class arc(object):\n",
    "    \n",
    "    def __init__(self, head, tail, arctype, length):\n",
    "        self.head=head\n",
    "        self.tail=tail\n",
    "        self.arctype=arctype\n",
    "        self.length=length\n",
    "    \n",
    "    def __str__(self):\n",
    "        string=\"Arc type: {}, Length: {}, Headnode: {}, Tailnode: {}\".format(self.arctype,self.length,self.head.state, self.tail.state)\n",
    "        return string"
   ]
  },
  {
   "cell_type": "code",
   "execution_count": null,
   "metadata": {},
   "outputs": [],
   "source": [
    "n=6\n",
    "U=10\n",
    "\n",
    "np.random.seed(78440)\n",
    "    \n",
    "cvals=np.random.randint(1,U,n)\n",
    "wvals=np.random.randint(1,U,n)\n",
    "W=sum(wvals)/2\n",
    "d=[0,1]"
   ]
  },
  {
   "cell_type": "code",
   "execution_count": null,
   "metadata": {},
   "outputs": [],
   "source": [
    "n1=25\n",
    "U1=50\n",
    "    \n",
    "cvals1=np.random.randint(1,U1,n1)\n",
    "wvals1=np.random.randint(1,U1,n1)\n",
    "W1=sum(wvals1)/2\n",
    "d1=[0,1]\n",
    "\n",
    "def read_instance(address = 'instance.csv'):\n",
    "    data = pd.read_csv(address)\n",
    "    c = data['c'].values\n",
    "    w = data['w'].values\n",
    "    W = data['W'].values[0]\n",
    "    return c,w,W"
   ]
  },
  {
   "cell_type": "code",
   "execution_count": null,
   "metadata": {},
   "outputs": [],
   "source": [
    "ntest=4\n",
    "\n",
    "cvalstest=[7,8,6,14]\n",
    "wvalstest=[3,3,4,6]\n",
    "Wtest=6"
   ]
  },
  {
   "cell_type": "code",
   "execution_count": null,
   "metadata": {},
   "outputs": [],
   "source": [
    "def Algorithm_1(n,cvals,wvals,W,d):\n",
    "    \n",
    "    root_node=node(0)\n",
    "    all_layers={}\n",
    "    all_layers[0]={}\n",
    "    all_layers[0][root_node.state]=root_node\n",
    "    \n",
    "    #Iterate through each layer\n",
    "    for x in range(1,n):\n",
    "        #Create next layer\n",
    "        currLayer=all_layers[x-1]\n",
    "        all_layers[x]={}\n",
    "        nextLayer=all_layers[x]\n",
    "        #Iterate through each node and action decision\n",
    "        for currW, nodeInstance in currLayer.items():\n",
    "            for decision in d:\n",
    "                newstate=currW+(wvals[x-1]*decision)\n",
    "                #Feasability check\n",
    "                #Check if the new state already exists in the layer\n",
    "                if newstate<=W:\n",
    "                    if newstate in nextLayer:\n",
    "                        #Add arc into arclist\n",
    "                        cost=cvals[x-1]*decision\n",
    "                        #Add arc into node inbound and outbound\n",
    "                        nodeInstance.outbound[nextLayer[newstate]]=cost\n",
    "                        nextLayer[newstate].inbound[nodeInstance]=cost\n",
    "                    else:\n",
    "                        #Create new node, add arc to arclist\n",
    "                        new_node=node(newstate)\n",
    "                        nextLayer[newstate]=new_node\n",
    "                        cost=cvals[x-1]*decision\n",
    "                        #Add arc to node inbound and outbound\n",
    "                        nodeInstance.outbound[new_node]=cost\n",
    "                        new_node.inbound[nodeInstance]=cost\n",
    "        \n",
    "    #Changed from W because Rachel said so\n",
    "    terminal_node=node(-999)\n",
    "    all_layers[n]={}\n",
    "    all_layers[n][-999]=terminal_node\n",
    "    \n",
    "    for currW, nodeInstance in all_layers[n-1].items():\n",
    "        for decision in d:\n",
    "            newstate=currW+(wvals[n-1]*decision)\n",
    "            if newstate<=W:\n",
    "                cost=cvals[n-1]*decision\n",
    "                nodeInstance.outbound[terminal_node]=cost\n",
    "                terminal_node.inbound[nodeInstance]=cost\n",
    "                \n",
    "    #final_node=node(0)            \n",
    "    #terminal_node.outbound[final_node]=0\n",
    "                \n",
    "    return all_layers"
   ]
  },
  {
   "cell_type": "code",
   "execution_count": null,
   "metadata": {},
   "outputs": [],
   "source": [
    "def Algorithm_2(all_layers,n):\n",
    "    #Final reduction algorithm here we go\n",
    "    reduced_layers=all_layers.copy()\n",
    "    \n",
    "    #Starting from the third last layer moving up\n",
    "    for x in range(n-1,0,-1):\n",
    "        #Start iterating through one path nodes\n",
    "        for node_1 in list(reduced_layers[x].values()):\n",
    "            to_remove=[]\n",
    "            for node_2 in list(reduced_layers[x].values()):\n",
    "                if(node_1 is not node_2 and node_1 in reduced_layers[x].values() and node_2 in reduced_layers[x].values()):\n",
    "                    if(node_1.outbound.items()==node_2.outbound.items()):\n",
    "                        for comingFrom, arcCost in node_2.inbound.items():\n",
    "                            comingFrom.outbound[node_1]=arcCost\n",
    "                            node_1.inbound[comingFrom]=arcCost\n",
    "                            if node_2 in comingFrom.outbound:\n",
    "                                del(comingFrom.outbound[node_2])\n",
    "                        to_remove.append(node_2)\n",
    "            for remove_node in to_remove:\n",
    "                if remove_node.state in reduced_layers[x]:\n",
    "                    del(reduced_layers[x][remove_node.state])\n",
    "                                  \n",
    "    return reduced_layers"
   ]
  },
  {
   "cell_type": "code",
   "execution_count": null,
   "metadata": {},
   "outputs": [],
   "source": [
    "def Algorithm_2(all_layers,n):\n",
    "    #Final reduction algorithm here we go\n",
    "    reduced_layers=all_layers.copy()\n",
    "    \n",
    "    #Starting from the third last layer moving up\n",
    "    for x in range(n-1,0,-1):\n",
    "        #Start iterating through one path nodes\n",
    "        for node_1 in list(reduced_layers[x].values()):\n",
    "            if node_1 in reduced_layers[x].values():\n",
    "                to_remove=[]\n",
    "                for node_2 in list(reduced_layers[x].values()):\n",
    "                    if node_2 in reduced_layers[x].values():\n",
    "                        if(node_1 is not node_2):\n",
    "                            if(node_1.outbound.items()==node_2.outbound.items()):\n",
    "                                for comingFrom, arcCost in node_2.inbound.items():\n",
    "                                    comingFrom.outbound[node_1]=arcCost\n",
    "                                    node_1.inbound[comingFrom]=arcCost\n",
    "                                    if node_2 in comingFrom.outbound:\n",
    "                                        del(comingFrom.outbound[node_2])\n",
    "                                to_remove.append(node_2)\n",
    "                            \n",
    "            for remove_node in to_remove:\n",
    "                if remove_node.state in reduced_layers[x]:\n",
    "                    del(reduced_layers[x][remove_node.state])\n",
    "            \n",
    "                                  \n",
    "    return reduced_layers"
   ]
  },
  {
   "cell_type": "code",
   "execution_count": null,
   "metadata": {},
   "outputs": [],
   "source": [
    "[cvals2,wvals2,W2]=read_instance()\n",
    "n2=len(cvals2)"
   ]
  },
  {
   "cell_type": "code",
   "execution_count": null,
   "metadata": {},
   "outputs": [],
   "source": [
    "start1=time.time()\n",
    "all_layers=Algorithm_1(n2,cvals2,wvals2,W2,d)\n",
    "end1=time.time()\n",
    "reduced_layers=Algorithm_2(all_layers,n2)\n",
    "end2=time.time()"
   ]
  },
  {
   "cell_type": "code",
   "execution_count": null,
   "metadata": {},
   "outputs": [],
   "source": [
    "#Just printing stuff, no biggie\n",
    "    \n",
    "print(\"Algo 1 Runtime: {}ms\".format(1000*(end1-start1)))\n",
    "print(\"Algo 2 Runtime: {}ms\".format(1000*(end2-end1)))\n",
    "print(\"Total Runtime: {}ms\".format(1000*(end2-start1)))"
   ]
  },
  {
   "cell_type": "code",
   "execution_count": null,
   "metadata": {},
   "outputs": [],
   "source": [
    "#Printing node and layer information\n",
    "for key, layer in all_layers.items():\n",
    "    print(\"Layer no: {}\".format(key))\n",
    "    print(\"Nodes in layer: {}\".format(len(layer.values())))\n",
    "    print(\"\")\n",
    "    '''for currWeight, nodeInstance in layer.items():\n",
    "        print(\"Node: {}\".format(currWeight))\n",
    "        for goingTo, arcCost in nodeInstance.outbound.items():\n",
    "            print(\"Arc cost: {}\".format(arcCost))\n",
    "    print(\"\")'''"
   ]
  }
 ],
 "metadata": {
  "kernelspec": {
   "display_name": "Python 3",
   "language": "python",
   "name": "python3"
  },
  "language_info": {
   "codemirror_mode": {
    "name": "ipython",
    "version": 3
   },
   "file_extension": ".py",
   "mimetype": "text/x-python",
   "name": "python",
   "nbconvert_exporter": "python",
   "pygments_lexer": "ipython3",
   "version": "3.7.1"
  }
 },
 "nbformat": 4,
 "nbformat_minor": 2
}
