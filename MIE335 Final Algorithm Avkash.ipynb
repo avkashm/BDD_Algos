{
 "cells": [
  {
   "cell_type": "code",
   "execution_count": 1,
   "metadata": {},
   "outputs": [],
   "source": [
    "import numpy as np\n",
    "import pandas as pd\n",
    "import time\n",
    "import matplotlib.pyplot as plt"
   ]
  },
  {
   "cell_type": "code",
   "execution_count": 2,
   "metadata": {},
   "outputs": [],
   "source": [
    "class node(object):\n",
    "    \n",
    "    def __init__(self,state):\n",
    "        self.state=state\n",
    "        self.inbound={}\n",
    "        self.outbound={}\n",
    "        self.cost=0\n",
    "        \n",
    "    def __str__(self):\n",
    "        string=\"State: \"+str(self.state)\n",
    "        return string"
   ]
  },
  {
   "cell_type": "code",
   "execution_count": 3,
   "metadata": {},
   "outputs": [],
   "source": [
    "n=6\n",
    "U=10\n",
    "\n",
    "np.random.seed(78440)\n",
    "    \n",
    "cvals=np.random.randint(1,U,n)\n",
    "wvals=np.random.randint(1,U,n)\n",
    "W=sum(wvals)/2"
   ]
  },
  {
   "cell_type": "code",
   "execution_count": 4,
   "metadata": {},
   "outputs": [],
   "source": [
    "n1=50\n",
    "U1=50\n",
    "    \n",
    "cvals1=np.random.randint(1,U1,n1)\n",
    "wvals1=np.random.randint(1,U1,n1)\n",
    "W1=sum(wvals1)/2\n",
    "\n",
    "def read_instance(address = 'instance.csv'):\n",
    "    data = pd.read_csv(address)\n",
    "    c = data['c'].values\n",
    "    w = data['w'].values\n",
    "    W = data['W'].values[0]\n",
    "    return c,w,W"
   ]
  },
  {
   "cell_type": "code",
   "execution_count": 5,
   "metadata": {},
   "outputs": [],
   "source": [
    "nex=4\n",
    "\n",
    "cvalsex=[7,8,6,14]\n",
    "wvalsex=[3,3,4,6]\n",
    "Wex=6"
   ]
  },
  {
   "cell_type": "code",
   "execution_count": 6,
   "metadata": {},
   "outputs": [],
   "source": [
    "wvalstest = [90, 53, 32, 80, 90, 6, 61, 55, 76, 39, 16, 33, 63, 10, 16, 31, 18, 74, 100, 25, 9, 99, 23, 64, 14, 35, 44, 46, 80, 86, 70, 23, 52, 68, 50, 68, 24, 22, 57, 69, 88, 88, 11, 65, 9, 52, 13, 21, 10, 17, 47, 26, 28, 89, 24, 99, 57, 36, 27, 6, 12, 18, 9, 39, 43, 28, 8, 32, 47, 22, 11, 79, 19, 77, 79, 88, 100, 10, 97, 21, 82, 13, 57, 37, 59, 63, 14, 30, 37, 6, 6, 25, 65, 18, 55, 52, 48, 64, 21, 68, 85, 87, 1, 2, 86, 77, 86, 41, 17, 46, 38, 12, 97, 17, 17, 82, 21, 78, 72, 83, 28, 76, 50, 7, 98, 78, 80, 50, 91, 14, 79, 44, 38, 68, 50, 53, 84, 79, 13, 54, 80, 95, 44, 36, 37, 12, 5, 59, 76, 41]\n",
    "\n",
    "\n",
    "cvalstest = [92, 44, 16, 51, 65, 94, 1, 87, 95, 12, 91, 25, 25, 16, 75, 7, 33, 46, 93, 20, 11, 28, 53, 65, 64, 32, 82, 14, 19, 18, 91, 8, 20, 81, 70, 66, 71, 88, 73, 22, 73, 78, 16, 37, 51, 87, 65, 77, 19, 9, 88, 66, 88, 61, 86, 5, 81, 60, 83, 49, 13, 24, 50, 7, 44, 85, 56, 64, 38, 84, 34, 29, 63, 11, 36, 86, 47, 96, 91, 73, 49, 88, 9, 84, 23, 40, 52, 71, 8, 98, 32, 29, 22, 68, 18, 36, 21, 76, 100, 80, 60, 2, 38, 74, 92, 84, 21, 37, 17, 3, 31, 69, 5, 69, 1, 17, 55, 35, 81, 76, 97, 21, 27, 22, 60, 48, 16, 42, 33, 6, 25, 10, 19, 32, 32, 20, 94, 67, 20, 35, 44, 49, 26, 22, 98, 93, 45, 36, 70, 53]\n",
    "\n",
    "Wtest = 3553\n",
    "\n",
    "\n",
    "\n",
    "ntest=len(wvalstest)\n"
   ]
  },
  {
   "cell_type": "code",
   "execution_count": 7,
   "metadata": {},
   "outputs": [],
   "source": [
    "def Algorithm_1(n,cvals,wvals,W):\n",
    "    \n",
    "    #All layers is the tree containing each layer\n",
    "    #All_layers keys are the layer numbers\n",
    "    #Make root node before beginning\n",
    "    all_layers={}\n",
    "    all_layers[0]={}\n",
    "    all_layers[0][0]=node(0)\n",
    "    \n",
    "    #Iterate through each layer\n",
    "    for x in range(1,n):\n",
    "        #Create next layer\n",
    "        currLayer=all_layers[x-1]\n",
    "        all_layers[x]={}\n",
    "        nextLayer=all_layers[x]\n",
    "        \n",
    "        #Initialize layer variables\n",
    "        #Saves having to compute this for each node in the layer\n",
    "        w_current=wvals[x-1]\n",
    "        c_current=cvals[x-1]\n",
    "        \n",
    "        #Begin with the 0 decision: deciding not to take the item\n",
    "        #Node weight remains the same, so create new node in the subsequent layer\n",
    "        #Direct arcs to new node\n",
    "        for nodeInstance in currLayer.values():\n",
    "            new_node=node(nodeInstance.state)\n",
    "            nextLayer[nodeInstance.state]=new_node\n",
    "            nodeInstance.outbound[new_node]=0\n",
    "            new_node.inbound[nodeInstance]=0\n",
    "        \n",
    "        #Next do the 1 decision: deciding to take the item\n",
    "        for nodeInstance in currLayer.values():\n",
    "            newstate=nodeInstance.state+w_current\n",
    "            #Feasability check\n",
    "            if newstate<=W:\n",
    "                #Check if the new state already exists in the subsequent layer\n",
    "                if newstate in nextLayer:\n",
    "                    #Add arc into node inbound and outbound\n",
    "                    nodeInstance.outbound[nextLayer[newstate]]=c_current\n",
    "                    nextLayer[newstate].inbound[nodeInstance]=c_current\n",
    "                else:\n",
    "                    #Create new node\n",
    "                    new_node=node(newstate)\n",
    "                    nextLayer[newstate]=new_node\n",
    "                    #Add arc to node inbound and outbound\n",
    "                    nodeInstance.outbound[new_node]=c_current\n",
    "                    new_node.inbound[nodeInstance]=c_current\n",
    "                        \n",
    "    #Changed from W because Rachel said so\n",
    "    terminal_node=node(-1)\n",
    "    all_layers[n]={}\n",
    "    all_layers[n][-1]=terminal_node\n",
    "    \n",
    "    w_final=wvals[n-1]\n",
    "    c_final=cvals[n-1]\n",
    "    \n",
    "    #Our dictionary structure doesn't allow for a single node to have two arcs to the same node\n",
    "    #Uniqueness of outbound index keys doesn't allow for it\n",
    "    #Find a work around?\n",
    "    \n",
    "    #Final layer 0 decision\n",
    "    for nodeInstance in all_layers[n-1].values():\n",
    "        \n",
    "        nodeInstance.outbound[terminal_node]=0\n",
    "        terminal_node.inbound[nodeInstance]=0\n",
    "    \n",
    "    #Final layer 1 decision\n",
    "    for nodeInstance in all_layers[n-1].values():\n",
    "        \n",
    "        if nodeInstance.state+w_final<=W:\n",
    "            nodeInstance.outbound[terminal_node]=c_final\n",
    "            terminal_node.inbound[nodeInstance]=c_final\n",
    "            \n",
    "    return all_layers"
   ]
  },
  {
   "cell_type": "code",
   "execution_count": 8,
   "metadata": {},
   "outputs": [],
   "source": [
    "def Algorithm_2(reduced_layers,n):\n",
    "     #Final reduction algorithm here we go\n",
    "    #Starting from the second last layer moving up\n",
    "    \n",
    "    #CHANGE TO ITERATING OVER ITEMS DIRECTLY NOT INDEXING \n",
    "    #Can this be done in reverse order though\n",
    "    \n",
    "    \n",
    "    #Split last layer into its own case, have upper layers be dependent on outbound keys not items\n",
    "    for nodeInstance in reduced_layers[n-1].values():\n",
    "        to_remove={}\n",
    "        tail_list={}\n",
    "        current_valset=nodeInstance.outbound.values()\n",
    "        if len(current_valset)==1:\n",
    "            if current_valset in tail_list:\n",
    "                for comingFrom, arcCost in nodeInstance:\n",
    "                    tail_list[current_valset].inbound[comingFrom]=arcCost\n",
    "                    comingFrom.outbound[tail_list[current_valset]]=arcCost\n",
    "    \n",
    "    for x in range(n-2,0,-1):\n",
    "        to_remove={}\n",
    "        tail_list={}\n",
    "        for nodeInstance in reduced_layers[x].values():\n",
    "            #Add ending combination if not already in the tail list\n",
    "            current_tuple=tuple(nodeInstance.outbound.keys())\n",
    "            \n",
    "            #If ending combination exists\n",
    "            if current_tuple in tail_list:\n",
    "                to_remove[nodeInstance.state]=nodeInstance\n",
    "                #Redirect arcs\n",
    "                for comingFrom in nodeInstance.inbound:\n",
    "                    tail_list[current_tuple].inbound[comingFrom]=nodeInstance.inbound[comingFrom]\n",
    "                    comingFrom.outbound[tail_list[current_tuple]]=nodeInstance.inbound[comingFrom]\n",
    "                    \n",
    "                    #Remove arcs from comingFrom node\n",
    "                    if nodeInstance in comingFrom.outbound:\n",
    "                        del(comingFrom.outbound[nodeInstance])\n",
    "                del(nodeInstance.inbound)\n",
    "            \n",
    "            #If ending combination does not exist\n",
    "            else:\n",
    "                tail_list[current_tuple]=nodeInstance\n",
    "                        \n",
    "        #Remove all duplicate nodes            \n",
    "        for remove_node in to_remove.values():\n",
    "            del(reduced_layers[x][remove_node.state])\n",
    "            remove_node=None\n",
    "        \n",
    "    return reduced_layers"
   ]
  },
  {
   "cell_type": "code",
   "execution_count": 9,
   "metadata": {},
   "outputs": [],
   "source": [
    "def Longest_Path(reduced_layers,cvals):\n",
    "    #Initiate final score and trail list\n",
    "    final_score=0\n",
    "    trail=[0]*(len(reduced_layers)-1)\n",
    "    \n",
    "    #Iterate through every node and incoming arc, update highest cost found\n",
    "    for layer in reduced_layers.values():\n",
    "        for nodeInstance in layer.values():\n",
    "            for comingFrom in nodeInstance.inbound:\n",
    "                #Only update arcs where cost > 0\n",
    "                if (comingFrom.cost+nodeInstance.inbound[comingFrom])>nodeInstance.cost:\n",
    "                    nodeInstance.cost=comingFrom.cost+nodeInstance.inbound[comingFrom]\n",
    "    \n",
    "    #In the last layer of nodes find the node with the largest cost and set it as the final score\n",
    "    for nodeInstance in reduced_layers[len(cvals)].values():\n",
    "        final_score=nodeInstance.cost\n",
    "        break\n",
    "            \n",
    "    traceback_score=final_score\n",
    "    \n",
    "    #Trace back from terminal to root\n",
    "    for x in range(len(reduced_layers)-2,-1,-1):\n",
    "        \n",
    "        c_current=cvals[x]\n",
    "        new_traceback=traceback_score-c_current\n",
    "        \n",
    "        for nodeInstance in reduced_layers[x].values():\n",
    "            if (nodeInstance.cost==new_traceback):\n",
    "                trail[x]=1\n",
    "                traceback_score=new_traceback\n",
    "                break\n",
    "    \n",
    "    return final_score, trail"
   ]
  },
  {
   "cell_type": "code",
   "execution_count": 10,
   "metadata": {},
   "outputs": [],
   "source": [
    "def Complexity_Testing(n):\n",
    "    \n",
    "    y=[]\n",
    "    Algo_1=[]\n",
    "    Sol_1=[]\n",
    "    Algo_2=[]\n",
    "    Sol_2=[]\n",
    "    Full_Solve=[]\n",
    "    Reduced_Solve=[]\n",
    "    \n",
    "    for n_test in range(5,n+1):\n",
    "        \n",
    "        U_test=n_test\n",
    "        c_test=np.random.randint(1,U_test,n_test)\n",
    "        w_test=np.random.randint(1,U_test,n_test)\n",
    "        W_test=sum(w_test)/2\n",
    "        \n",
    "        start1=time.time()\n",
    "        all_layers=Algorithm_1(n_test,c_test,w_test,W_test)\n",
    "        end1=time.time()\n",
    "        [full_finalScore,full_trail]=Longest_Path(all_layers,c_test)\n",
    "        end2=time.time()\n",
    "        reduced_layers=Algorithm_2(all_layers,n_test)\n",
    "        end3=time.time()\n",
    "        [reduced_finalScore,reduced_trail]=Longest_Path(reduced_layers,c_test)\n",
    "        end4=time.time()\n",
    "        \n",
    "        y.append(n_test)\n",
    "        Algo_1.append(end1-start1)\n",
    "        Sol_1.append(end2-end1)\n",
    "        Algo_2.append(end3-end2)\n",
    "        Sol_2.append(end4-end3)\n",
    "        Full_Solve.append(end2-start1)\n",
    "        Reduced_Solve.append((end4-end2)+(end1-start1))\n",
    "    \n",
    "    #plt.plot(y,Algo_1,label=\"Building\")\n",
    "    #plt.plot(y,Sol_1,label=\"Full solve\")\n",
    "    #plt.plot(y,Algo_2,label=\"Reduction\")\n",
    "    #plt.plot(y,Sol_2,label=\"Reduced solve\")\n",
    "    plt.plot(y,Full_Solve,label=\"Full Solve\")\n",
    "    plt.plot(y,Reduced_Solve,label=\"Reduced Solve\")\n",
    "    \n",
    "    \n",
    "    plt.legend()\n",
    "    plt.show()\n",
    "        \n",
    "    return None"
   ]
  },
  {
   "cell_type": "code",
   "execution_count": 11,
   "metadata": {},
   "outputs": [],
   "source": [
    "def Count_Arcs(all_layers):\n",
    "    \n",
    "    arc_count=0\n",
    "    \n",
    "    for layer in all_layers.values():\n",
    "        for nodeInstance in layer.values():\n",
    "            arc_count+=len(nodeInstance.outbound)\n",
    "            \n",
    "    return arc_count"
   ]
  },
  {
   "cell_type": "code",
   "execution_count": 12,
   "metadata": {},
   "outputs": [],
   "source": [
    "[cvals2,wvals2,W2]=read_instance()\n",
    "n2=len(cvals2)"
   ]
  },
  {
   "cell_type": "code",
   "execution_count": 13,
   "metadata": {},
   "outputs": [],
   "source": [
    "testset=[n2,cvals2,wvals2,W2]\n",
    "\n",
    "start1=time.time()\n",
    "all_layers=Algorithm_1(testset[0],testset[1],testset[2],testset[3])\n",
    "end1=time.time()\n",
    "[full_finalScore,full_trail]=Longest_Path(all_layers,testset[1])\n",
    "end2=time.time()\n",
    "\n",
    "reduced_layers=Algorithm_2(all_layers,testset[0])\n",
    "end3=time.time()\n",
    "[reduced_finalScore,reduced_trail]=Longest_Path(reduced_layers,testset[1])\n",
    "end4=time.time()\n",
    "\n",
    "if(full_finalScore==np.dot(full_trail,testset[1])):\n",
    "    full_check=\"Passed!\"\n",
    "else:\n",
    "    full_check=\"Failed\"\n",
    "\n",
    "if(reduced_finalScore==np.dot(reduced_trail,testset[1])):\n",
    "    reduced_check=\"Passed!\"\n",
    "else:\n",
    "    reduced_check=\"Failed\""
   ]
  },
  {
   "cell_type": "code",
   "execution_count": 14,
   "metadata": {},
   "outputs": [
    {
     "name": "stdout",
     "output_type": "stream",
     "text": [
      "Full BDD Build Time: 0.11493468284606934s\n",
      "Full BDD Score Runtime: 0.07095718383789062s\n",
      "Full BDD Optimal Solution: 719\n",
      "Sanity Check: Passed!\n",
      "\n",
      "BDD Reduction Time: 0.016989469528198242s\n",
      "Reduced BDD Solution: 0.03899526596069336s\n",
      "Reduced BDD Optimal Solution: 719\n",
      "Sanity Check: Passed!\n",
      "\n",
      "Fastest Runtime: 0.17091941833496094s\n",
      "Total Runtime: 0.24187660217285156s\n"
     ]
    }
   ],
   "source": [
    "#Just printing stuff, no biggie\n",
    "    \n",
    "print(\"Full BDD Build Time: {}s\".format(end1-start1))\n",
    "print(\"Full BDD Score Runtime: {}s\".format(end2-end1))\n",
    "print(\"Full BDD Optimal Solution: {}\".format(full_finalScore))\n",
    "print(\"Sanity Check: {}\\n\".format(full_check))\n",
    "#print(\"Full BDD Trail: {}\\n\".format(full_trail))\n",
    "\n",
    "\n",
    "print(\"BDD Reduction Time: {}s\".format(end3-end2))\n",
    "print(\"Reduced BDD Solution: {}s\".format(end4-end3))\n",
    "print(\"Reduced BDD Optimal Solution: {}\".format(reduced_finalScore))\n",
    "print(\"Sanity Check: {}\\n\".format(reduced_check))\n",
    "#print(\"Reduced BDD Trail: {}\\n\".format(reduced_trail))\n",
    "\n",
    "print(\"Fastest Runtime: {}s\".format(min((end2-start1),((end4-end2)+(end1-start1)))))\n",
    "print(\"Total Runtime: {}s\".format(end4-start1))"
   ]
  },
  {
   "cell_type": "code",
   "execution_count": 15,
   "metadata": {},
   "outputs": [
    {
     "data": {
      "text/plain": [
       "'for key, layer in all_layers.items():\\n    print(\"Layer no: {}\".format(key))\\n    print(\"Nodes in layer: {}\".format(len(layer.values())))\\n    print(\"\")\\n    for currWeight, nodeInstance in layer.items():\\n        print(\"Node: {}\".format(currWeight))\\n        for goingTo, arcCost in nodeInstance.outbound.items():\\n            print(\"Arc cost: {}\".format(arcCost))\\n    print(\"\")'"
      ]
     },
     "execution_count": 15,
     "metadata": {},
     "output_type": "execute_result"
    }
   ],
   "source": [
    "#Printing node and layer information\n",
    "'''for key, layer in all_layers.items():\n",
    "    print(\"Layer no: {}\".format(key))\n",
    "    print(\"Nodes in layer: {}\".format(len(layer.values())))\n",
    "    print(\"\")\n",
    "    for currWeight, nodeInstance in layer.items():\n",
    "        print(\"Node: {}\".format(currWeight))\n",
    "        for goingTo, arcCost in nodeInstance.outbound.items():\n",
    "            print(\"Arc cost: {}\".format(arcCost))\n",
    "    print(\"\")'''"
   ]
  },
  {
   "cell_type": "code",
   "execution_count": 16,
   "metadata": {},
   "outputs": [],
   "source": [
    "#Complexity testig\n",
    "#Complexity_Testing(50)"
   ]
  },
  {
   "cell_type": "code",
   "execution_count": 17,
   "metadata": {},
   "outputs": [
    {
     "data": {
      "text/plain": [
       "dict_values([2, 3])"
      ]
     },
     "execution_count": 17,
     "metadata": {},
     "output_type": "execute_result"
    }
   ],
   "source": [
    "d={}\n",
    "d[1]=2\n",
    "d[2]=3\n",
    "d.values()"
   ]
  },
  {
   "cell_type": "code",
   "execution_count": null,
   "metadata": {},
   "outputs": [],
   "source": []
  }
 ],
 "metadata": {
  "kernelspec": {
   "display_name": "Python 3",
   "language": "python",
   "name": "python3"
  },
  "language_info": {
   "codemirror_mode": {
    "name": "ipython",
    "version": 3
   },
   "file_extension": ".py",
   "mimetype": "text/x-python",
   "name": "python",
   "nbconvert_exporter": "python",
   "pygments_lexer": "ipython3",
   "version": "3.7.1"
  }
 },
 "nbformat": 4,
 "nbformat_minor": 2
}
