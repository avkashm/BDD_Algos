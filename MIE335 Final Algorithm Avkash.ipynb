{
 "cells": [
  {
   "cell_type": "code",
   "execution_count": 1,
   "metadata": {},
   "outputs": [],
   "source": [
    "import numpy as np\n",
    "import pandas as pd\n",
    "import time"
   ]
  },
  {
   "cell_type": "code",
   "execution_count": 2,
   "metadata": {},
   "outputs": [],
   "source": [
    "class node(object):\n",
    "    \n",
    "    def __init__(self,state):\n",
    "        self.state=state\n",
    "        self.inbound={}\n",
    "        self.outbound={}\n",
    "        self.cost=0\n",
    "        \n",
    "    def __str__(self):\n",
    "        string=\"State: \"+str(self.state)\n",
    "        return string\n",
    "    \n",
    "    def addInbound(self,comingFrom,arcCost):\n",
    "        self.inbound[comingFrom]=arcCost\n",
    "        \n",
    "    def addOutbound(self,goingTo,arcCost):\n",
    "        self.outbound[goingTo]=arcCost\n"
   ]
  },
  {
   "cell_type": "code",
   "execution_count": 3,
   "metadata": {},
   "outputs": [],
   "source": [
    "n=6\n",
    "U=10\n",
    "\n",
    "np.random.seed(78440)\n",
    "    \n",
    "cvals=np.random.randint(1,U,n)\n",
    "wvals=np.random.randint(1,U,n)\n",
    "W=sum(wvals)/2\n",
    "d=[0,1]"
   ]
  },
  {
   "cell_type": "code",
   "execution_count": 4,
   "metadata": {},
   "outputs": [],
   "source": [
    "n1=50\n",
    "U1=50\n",
    "    \n",
    "cvals1=np.random.randint(1,U1,n1)\n",
    "wvals1=np.random.randint(1,U1,n1)\n",
    "W1=sum(wvals1)/2\n",
    "d1=[0,1]\n",
    "\n",
    "def read_instance(address = 'instance.csv'):\n",
    "    data = pd.read_csv(address)\n",
    "    c = data['c'].values\n",
    "    w = data['w'].values\n",
    "    W = data['W'].values[0]\n",
    "    return c,w,W"
   ]
  },
  {
   "cell_type": "code",
   "execution_count": 5,
   "metadata": {},
   "outputs": [],
   "source": [
    "nex=4\n",
    "\n",
    "cvalsex=[7,8,6,14]\n",
    "wvalsex=[3,3,4,6]\n",
    "Wex=6"
   ]
  },
  {
   "cell_type": "code",
   "execution_count": 6,
   "metadata": {},
   "outputs": [],
   "source": [
    "wvalstest = [90, 53, 32, 80, 90, 6, 61, 55, 76, 39, 16, 33, 63, 10, 16, 31, 18, 74, 100, 25, 9, 99, 23, 64, 14, 35, 44, 46, 80, 86, 70, 23, 52, 68, 50, 68, 24, 22, 57, 69, 88, 88, 11, 65, 9, 52, 13, 21, 10, 17, 47, 26, 28, 89, 24, 99, 57, 36, 27, 6, 12, 18, 9, 39, 43, 28, 8, 32, 47, 22, 11, 79, 19, 77, 79, 88, 100, 10, 97, 21, 82, 13, 57, 37, 59, 63, 14, 30, 37, 6, 6, 25, 65, 18, 55, 52, 48, 64, 21, 68, 85, 87, 1, 2, 86, 77, 86, 41, 17, 46, 38, 12, 97, 17, 17, 82, 21, 78, 72, 83, 28, 76, 50, 7, 98, 78, 80, 50, 91, 14, 79, 44, 38, 68, 50, 53, 84, 79, 13, 54, 80, 95, 44, 36, 37, 12, 5, 59, 76, 41]\n",
    "\n",
    "\n",
    "cvalstest = [92, 44, 16, 51, 65, 94, 1, 87, 95, 12, 91, 25, 25, 16, 75, 7, 33, 46, 93, 20, 11, 28, 53, 65, 64, 32, 82, 14, 19, 18, 91, 8, 20, 81, 70, 66, 71, 88, 73, 22, 73, 78, 16, 37, 51, 87, 65, 77, 19, 9, 88, 66, 88, 61, 86, 5, 81, 60, 83, 49, 13, 24, 50, 7, 44, 85, 56, 64, 38, 84, 34, 29, 63, 11, 36, 86, 47, 96, 91, 73, 49, 88, 9, 84, 23, 40, 52, 71, 8, 98, 32, 29, 22, 68, 18, 36, 21, 76, 100, 80, 60, 2, 38, 74, 92, 84, 21, 37, 17, 3, 31, 69, 5, 69, 1, 17, 55, 35, 81, 76, 97, 21, 27, 22, 60, 48, 16, 42, 33, 6, 25, 10, 19, 32, 32, 20, 94, 67, 20, 35, 44, 49, 26, 22, 98, 93, 45, 36, 70, 53]\n",
    "\n",
    "Wtest = 3553\n",
    "\n",
    "\n",
    "\n",
    "\n",
    "ntest=len(wvalstest)\n"
   ]
  },
  {
   "cell_type": "code",
   "execution_count": 7,
   "metadata": {},
   "outputs": [],
   "source": [
    "def Algorithm_1(n,cvals,wvals,W,d):\n",
    "    \n",
    "    root_node=node(0)\n",
    "    all_layers={}\n",
    "    all_layers[0]={}\n",
    "    all_layers[0][root_node.state]=root_node\n",
    "    \n",
    "    #Iterate through each layer\n",
    "    for x in range(1,n):\n",
    "        #Create next layer\n",
    "        currLayer=all_layers[x-1]\n",
    "        all_layers[x]={}\n",
    "        nextLayer=all_layers[x]\n",
    "        #Iterate through each node and action decision\n",
    "        for currW, nodeInstance in currLayer.items():\n",
    "            for decision in d:\n",
    "                newstate=currW+(wvals[x-1]*decision)\n",
    "                #Feasability check\n",
    "                #Check if the new state already exists in the layer\n",
    "                if newstate<=W:\n",
    "                    if newstate in nextLayer:\n",
    "                        #Add arc into arclist\n",
    "                        cost=cvals[x-1]*decision\n",
    "                        #Add arc into node inbound and outbound\n",
    "                        nodeInstance.outbound[nextLayer[newstate]]=cost\n",
    "                        nextLayer[newstate].inbound[nodeInstance]=cost\n",
    "                    else:\n",
    "                        #Create new node, add arc to arclist\n",
    "                        new_node=node(newstate)\n",
    "                        nextLayer[newstate]=new_node\n",
    "                        cost=cvals[x-1]*decision\n",
    "                        #Add arc to node inbound and outbound\n",
    "                        nodeInstance.outbound[new_node]=cost\n",
    "                        new_node.inbound[nodeInstance]=cost\n",
    "        \n",
    "    #Changed from W because Rachel said so\n",
    "    terminal_node=node(-999)\n",
    "    all_layers[n]={}\n",
    "    all_layers[n][-999]=terminal_node\n",
    "    \n",
    "    for currW, nodeInstance in all_layers[n-1].items():\n",
    "        for decision in d:\n",
    "            newstate=currW+(wvals[n-1]*decision)\n",
    "            if newstate<=W:\n",
    "                cost=cvals[n-1]*decision\n",
    "                nodeInstance.outbound[terminal_node]=cost\n",
    "                terminal_node.inbound[nodeInstance]=cost\n",
    "                \n",
    "    #final_node=node(0)            \n",
    "    #terminal_node.outbound[final_node]=0\n",
    "                \n",
    "    return all_layers"
   ]
  },
  {
   "cell_type": "code",
   "execution_count": 8,
   "metadata": {},
   "outputs": [],
   "source": [
    "def Algorithm_2(all_layers,n):\n",
    "     #Final reduction algorithm here we go\n",
    "    reduced_layers=all_layers.copy()\n",
    "    \n",
    "    #Starting from the second last layer moving up\n",
    "    for x in range(n-1,0,-1):\n",
    "        #all_tails_found=False\n",
    "        to_remove=[]\n",
    "        tail_list={}\n",
    "        for nodeInstance in reduced_layers[x].values():\n",
    "            #Add ending combination if not already in the tail list\n",
    "            if tuple(nodeInstance.outbound.items()) not in tail_list:\n",
    "                tail_list[tuple(nodeInstance.outbound.items())]=nodeInstance\n",
    "            \n",
    "            #If ending combination exists\n",
    "            else:\n",
    "                to_remove.append(nodeInstance)\n",
    "                #Redirect arcs\n",
    "                for comingFrom, arcCost in nodeInstance.inbound.items():\n",
    "                    tail_list[tuple(nodeInstance.outbound.items())].inbound[comingFrom]=arcCost\n",
    "                    comingFrom.outbound[tail_list[tuple(nodeInstance.outbound.items())]]=arcCost\n",
    "                    #Remove arcs from comingFrom node\n",
    "                    if nodeInstance in comingFrom.outbound:\n",
    "                        del(comingFrom.outbound[nodeInstance])\n",
    "                #for goingTo, arcCost in nodeInstance.outbound.items():\n",
    "                    #if nodeInstance in goingTo.inbound:\n",
    "                        #del(goingTo.inbound[nodeInstance])\n",
    "                        \n",
    "        #Remove all duplicate nodes            \n",
    "        for remove_node in to_remove:\n",
    "            del(reduced_layers[x][remove_node.state])\n",
    "        \n",
    "    return reduced_layers"
   ]
  },
  {
   "cell_type": "code",
   "execution_count": 9,
   "metadata": {},
   "outputs": [],
   "source": [
    "def Longest_Path(reduced_layers,cvals):\n",
    "    final_score=0\n",
    "    trail=[0]*(len(reduced_layers)-1)\n",
    "\n",
    "    #Use scorekeeper dictionary?\n",
    "    \n",
    "    for x in range(len(reduced_layers)):\n",
    "        for nodeInstance in reduced_layers[x].values():\n",
    "            for comingFrom, arcCost in nodeInstance.inbound.items():\n",
    "                if (comingFrom.cost+arcCost)>nodeInstance.cost:\n",
    "                    nodeInstance.cost=comingFrom.cost+arcCost\n",
    "                    \n",
    "    for nodeInstance in reduced_layers[len(reduced_layers)-1].values():\n",
    "        if nodeInstance.cost>final_score:\n",
    "            final_score=nodeInstance.cost\n",
    "            traceback_score=final_score\n",
    "    \n",
    "    for x in range(len(reduced_layers)-2,-1,-1):\n",
    "        temp_set=set()\n",
    "        for nodeInstance in reduced_layers[x].values():\n",
    "            temp_set.add(nodeInstance.cost)\n",
    "        if (traceback_score-cvals[x]) in temp_set:\n",
    "            trail[x]=1\n",
    "            traceback_score-=cvals[x]\n",
    "        elif (traceback_score) in temp_set:\n",
    "            trail[x]=0\n",
    "    \n",
    "    return final_score, trail"
   ]
  },
  {
   "cell_type": "code",
   "execution_count": 10,
   "metadata": {},
   "outputs": [],
   "source": [
    "[cvals2,wvals2,W2]=read_instance()\n",
    "n2=len(cvals2)"
   ]
  },
  {
   "cell_type": "code",
   "execution_count": 11,
   "metadata": {},
   "outputs": [],
   "source": [
    "testset=[n2,cvals2,wvals2,W2]\n",
    "\n",
    "start1=time.time()\n",
    "all_layers=Algorithm_1(testset[0],testset[1],testset[2],testset[3],d)\n",
    "end1=time.time()\n",
    "[full_finalScore,full_trail]=Longest_Path(all_layers,testset[1])\n",
    "end2=time.time()\n",
    "\n",
    "reduced_layers=Algorithm_2(all_layers,testset[0])\n",
    "end3=time.time()\n",
    "[reduced_finalScore,reduced_trail]=Longest_Path(reduced_layers,testset[1])\n",
    "end4=time.time()\n",
    "\n",
    "if(full_finalScore==np.dot(full_trail,testset[1])):\n",
    "    full_check=\"Passed!\"\n",
    "else:\n",
    "    full_check=\"Failed\"\n",
    "\n",
    "if(reduced_finalScore==np.dot(reduced_trail,testset[1])):\n",
    "    reduced_check=\"Passed!\"\n",
    "else:\n",
    "    reduced_check=\"Failed\""
   ]
  },
  {
   "cell_type": "code",
   "execution_count": 12,
   "metadata": {},
   "outputs": [
    {
     "name": "stdout",
     "output_type": "stream",
     "text": [
      "Full BDD Build Time: 238.84248733520508ms\n",
      "Full BDD Score Runtime: 50.98867416381836ms\n",
      "Full BDD Optimal Solution: 719\n",
      "Sanity Check: Passed!\n",
      "Full BDD Trail: [0, 0, 0, 0, 0, 0, 0, 1, 0, 1, 0, 1, 1, 1, 0, 0, 1, 1, 0, 1, 1, 0, 0, 1, 1, 1, 0, 1, 1, 0, 0, 1, 1, 1, 1, 0, 1, 0, 0, 1, 1, 0, 1, 0, 1, 1, 1, 1, 1, 1, 1, 0, 1, 1, 1, 1, 1, 1, 1, 1, 1, 1, 1, 1, 1, 1, 1, 1, 1, 1, 1, 1, 1, 1, 1]\n",
      "\n",
      "BDD Reduction Time: 53.96890640258789ms\n",
      "Reduced BDD Solution: 28.983116149902344ms\n",
      "Reduced BDD Optimal Solution: 719\n",
      "Sanity Check: Passed!\n",
      "Reduced BDD Trail: [0, 0, 0, 0, 0, 0, 0, 1, 0, 1, 0, 1, 1, 1, 0, 0, 1, 0, 1, 0, 0, 1, 1, 1, 1, 1, 1, 1, 1, 1, 1, 1, 1, 1, 1, 0, 1, 1, 1, 1, 1, 1, 1, 1, 1, 1, 1, 1, 1, 1, 1, 1, 1, 1, 0, 1, 1, 1, 1, 1, 1, 1, 1, 1, 1, 1, 1, 1, 1, 1, 1, 1, 0, 0, 0]\n",
      "\n",
      "Total Runtime: 372.7831840515137ms\n"
     ]
    }
   ],
   "source": [
    "#Just printing stuff, no biggie\n",
    "    \n",
    "print(\"Full BDD Build Time: {}ms\".format(1000*(end1-start1)))\n",
    "print(\"Full BDD Score Runtime: {}ms\".format(1000*(end2-end1)))\n",
    "print(\"Full BDD Optimal Solution: {}\".format(full_finalScore))\n",
    "print(\"Sanity Check: {}\".format(full_check))\n",
    "print(\"Full BDD Trail: {}\\n\".format(full_trail))\n",
    "\n",
    "\n",
    "print(\"BDD Reduction Time: {}ms\".format(1000*(end3-end2)))\n",
    "print(\"Reduced BDD Solution: {}ms\".format(1000*(end4-end3)))\n",
    "print(\"Reduced BDD Optimal Solution: {}\".format(reduced_finalScore))\n",
    "print(\"Sanity Check: {}\".format(reduced_check))\n",
    "print(\"Reduced BDD Trail: {}\\n\".format(reduced_trail))\n",
    "\n",
    "print(\"Total Runtime: {}ms\".format(1000*(end4-start1)))"
   ]
  },
  {
   "cell_type": "code",
   "execution_count": 13,
   "metadata": {},
   "outputs": [
    {
     "data": {
      "text/plain": [
       "'for key, layer in all_layers.items():\\n    print(\"Layer no: {}\".format(key))\\n    print(\"Nodes in layer: {}\".format(len(layer.values())))\\n    print(\"\")\\n    for currWeight, nodeInstance in layer.items():\\n        print(\"Node: {}\".format(currWeight))\\n        for goingTo, arcCost in nodeInstance.outbound.items():\\n            print(\"Arc cost: {}\".format(arcCost))\\n    print(\"\")'"
      ]
     },
     "execution_count": 13,
     "metadata": {},
     "output_type": "execute_result"
    }
   ],
   "source": [
    "#Printing node and layer information\n",
    "'''for key, layer in all_layers.items():\n",
    "    print(\"Layer no: {}\".format(key))\n",
    "    print(\"Nodes in layer: {}\".format(len(layer.values())))\n",
    "    print(\"\")\n",
    "    for currWeight, nodeInstance in layer.items():\n",
    "        print(\"Node: {}\".format(currWeight))\n",
    "        for goingTo, arcCost in nodeInstance.outbound.items():\n",
    "            print(\"Arc cost: {}\".format(arcCost))\n",
    "    print(\"\")'''"
   ]
  },
  {
   "cell_type": "code",
   "execution_count": null,
   "metadata": {},
   "outputs": [],
   "source": []
  }
 ],
 "metadata": {
  "kernelspec": {
   "display_name": "Python 3",
   "language": "python",
   "name": "python3"
  },
  "language_info": {
   "codemirror_mode": {
    "name": "ipython",
    "version": 3
   },
   "file_extension": ".py",
   "mimetype": "text/x-python",
   "name": "python",
   "nbconvert_exporter": "python",
   "pygments_lexer": "ipython3",
   "version": "3.7.1"
  }
 },
 "nbformat": 4,
 "nbformat_minor": 2
}
